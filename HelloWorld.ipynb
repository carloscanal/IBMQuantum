{
 "cells": [
  {
   "cell_type": "markdown",
   "id": "62f409c5-887a-4a9b-bca1-88ea6108bea6",
   "metadata": {},
   "source": [
    "<h1>Qiskit Hello World!</h1>"
   ]
  },
  {
   "cell_type": "code",
   "execution_count": 7,
   "id": "3d2e8f5f-b5ef-471b-b074-9251b5584eb9",
   "metadata": {},
   "outputs": [
    {
     "name": "stdout",
     "output_type": "stream",
     "text": [
      "The skip_kernel_extension extension is already loaded. To reload it, use:\n",
      "  %reload_ext skip_kernel_extension\n"
     ]
    }
   ],
   "source": [
    "%load_ext skip_kernel_extension"
   ]
  },
  {
   "cell_type": "markdown",
   "id": "cd2654ee-f291-4079-8c15-8b73bb313a2f",
   "metadata": {},
   "source": [
    "<h2>Step 0. Obtain the API_KEY from the .env file</h2>"
   ]
  },
  {
   "cell_type": "code",
   "execution_count": 8,
   "id": "6998c402-7ee6-4c08-806f-2f7dd80af15d",
   "metadata": {},
   "outputs": [
    {
     "name": "stdout",
     "output_type": "stream",
     "text": [
      ">>> Token: 4a7ea...\n"
     ]
    }
   ],
   "source": [
    "from environs import Env\n",
    "\n",
    "env = Env()\n",
    "\n",
    "#env.read_env()                         # this does not work (?)\n",
    "env.read_env('.env', recurse=False)     # read .env file, if it exists\n",
    "\n",
    "token = env('IBM_QUANTUM_TOKEN')  \n",
    "\n",
    "print(f\">>> Token: {token[:5]}...\")      # Check that the starting characters of the token are printed"
   ]
  },
  {
   "cell_type": "markdown",
   "id": "fcabca1b-62c0-44a2-bccb-01627403debc",
   "metadata": {},
   "source": [
    "<h2>Step 1. Create a simple circuit with two entangled qubits (Bell state)</h2>"
   ]
  },
  {
   "cell_type": "code",
   "execution_count": 9,
   "id": "76665640-8b0d-487e-8a52-10c58909ed9b",
   "metadata": {
    "scrolled": true
   },
   "outputs": [
    {
     "data": {
      "image/png": "[encoded data removed]",
      "text/plain": [
       "<Figure size 287.294x200.667 with 1 Axes>"
      ]
     },
     "execution_count": 9,
     "metadata": {},
     "output_type": "execute_result"
    }
   ],
   "source": [
    "from qiskit import QuantumCircuit\n",
    "\n",
    "# Create a new circuit with two qubits\n",
    "qc = QuantumCircuit(2)\n",
    " \n",
    "# Add a Hadamard gate to qubit 0\n",
    "qc.h(0)\n",
    " \n",
    "# Perform a controlled-X gate on qubit 1, controlled by qubit 0\n",
    "qc.cx(0, 1)\n",
    "\n",
    "# Return a drawing of the circuit using MatPlotLib (\"mpl\"). This is the\n",
    "# last line of the cell, so the drawing appears in the cell output.\n",
    "# Remove the \"mpl\" argument to get a text drawing.\n",
    "qc.draw(\"mpl\")"
   ]
  },
  {
   "cell_type": "markdown",
   "id": "1959d02a-7369-4351-83b1-3815869812bf",
   "metadata": {},
   "source": [
    "<h2>Step 2. Set up a set of observables</h2>"
   ]
  },
  {
   "cell_type": "code",
   "execution_count": 10,
   "id": "ec219075-c38b-4ff7-823b-465dba96bf5d",
   "metadata": {},
   "outputs": [],
   "source": [
    "from qiskit.quantum_info import SparsePauliOp\n",
    "\n",
    "# Set up six different observables.\n",
    "observables_labels = [\"IZ\", \"IX\", \"ZI\", \"XI\", \"ZZ\", \"XX\"]\n",
    "observables = [SparsePauliOp(label) for label in observables_labels]\n"
   ]
  },
  {
   "cell_type": "markdown",
   "id": "4aa0378c-5764-416c-af82-9edfbe693bae",
   "metadata": {},
   "source": [
    "<h2>Step 3a. Prepare for execution on simulator</h2>"
   ]
  },
  {
   "cell_type": "code",
   "execution_count": 14,
   "id": "c0fb32b9-ec42-42b4-851b-25152492a283",
   "metadata": {},
   "outputs": [],
   "source": [
    "from qiskit_ibm_runtime.fake_provider import FakeAlmadenV2\n",
    "\n",
    "backend = FakeAlmadenV2()"
   ]
  },
  {
   "cell_type": "markdown",
   "id": "5930b5da-8d11-4268-b4ca-f7a4da88c337",
   "metadata": {},
   "source": [
    "<h2>Step 3b. Alternatively, prepare for execution on a hardware QPU</h2>"
   ]
  },
  {
   "cell_type": "code",
   "execution_count": 13,
   "id": "2ec1f26a-abd6-4371-8edf-3616e4311ee6",
   "metadata": {},
   "outputs": [],
   "source": [
    "%%skip True\n",
    "# Set skip magic to True for executing on hardware QPU\n",
    "\n",
    "from IPython.display import display, Markdown\n",
    "from qiskit_ibm_runtime import QiskitRuntimeService\n",
    "\n",
    "display(Markdown('## <span style=\"color:red\">WARNING: *** No simulation. Next steps will run the circuit on hardware QPU ***</span>'))\n",
    "\n",
    "# If you did not previously save your credentials, use the following line instead:\n",
    "# service = QiskitRuntimeService(channel=\"ibm_quantum\", token=\"<MY_IBM_QUANTUM_TOKEN>\")\n",
    "service = QiskitRuntimeService(channel=\"ibm_quantum\", token=token)\n",
    " \n",
    "backend = service.least_busy(simulator=False, operational=True)"
   ]
  },
  {
   "cell_type": "markdown",
   "id": "9c326c85-98c8-426f-a91f-1cbdf7785172",
   "metadata": {},
   "source": [
    "<h2>Step 4. Convert to an ISA circuit layout</h2>"
   ]
  },
  {
   "cell_type": "code",
   "execution_count": 15,
   "id": "d7e7192f-f075-44e3-9535-6b1775d2453b",
   "metadata": {},
   "outputs": [
    {
     "data": {
      "image/png": "[encoded data removed]",
      "text/plain": [
       "<Figure size 339.775x200.667 with 1 Axes>"
      ]
     },
     "execution_count": 15,
     "metadata": {},
     "output_type": "execute_result"
    }
   ],
   "source": [
    "from qiskit.transpiler.preset_passmanagers import generate_preset_pass_manager\n",
    " \n",
    "pm = generate_preset_pass_manager(backend=backend, optimization_level=1)\n",
    "isa_circuit = pm.run(qc)\n",
    "\n",
    "isa_circuit.draw('mpl', idle_wires=False)"
   ]
  },
  {
   "cell_type": "markdown",
   "id": "e2714646-df90-48e5-b46b-65e718cbe60e",
   "metadata": {},
   "source": [
    "<h2>Step 5. Map the observables to the circuit layout, and construct the Estimator instance</h2>"
   ]
  },
  {
   "cell_type": "code",
   "execution_count": 16,
   "id": "bd255ec9-fa82-485e-84b3-f7a3d8ebf50c",
   "metadata": {},
   "outputs": [],
   "source": [
    "from qiskit_ibm_runtime import EstimatorV2 as Estimator\n",
    "\n",
    "# Map the observables to the ISA circuit\n",
    "\n",
    "mapped_observables = [\n",
    "    observable.apply_layout(isa_circuit.layout) for observable in observables\n",
    "]\n",
    "\n",
    "# Construct the Estimator instance\n",
    "\n",
    "estimator = Estimator(mode=backend)\n",
    "estimator.options.resilience_level = 1\n",
    "estimator.options.default_shots = 5000"
   ]
  },
  {
   "cell_type": "markdown",
   "id": "398cd56c-fc37-4650-96b0-2de00333cf21",
   "metadata": {},
   "source": [
    "<h2>Step 6. Run the circuit</h2>"
   ]
  },
  {
   "cell_type": "code",
   "execution_count": 17,
   "id": "1e0cd03c-114a-4bf8-9369-f7af3b573384",
   "metadata": {},
   "outputs": [
    {
     "name": "stderr",
     "output_type": "stream",
     "text": [
      "C:\\Carlos\\current\\Docencia\\QSE\\IBM Quantum\\Hello World\\qiskitenv\\Lib\\site-packages\\qiskit_ibm_runtime\\fake_provider\\local_service.py:187: UserWarning: The resilience_level option has no effect in local testing mode.\n",
      "  warnings.warn(\"The resilience_level option has no effect in local testing mode.\")\n"
     ]
    },
    {
     "name": "stdout",
     "output_type": "stream",
     "text": [
      ">>> Job ID: af8d4130-2e63-472f-9220-729e04785600\n"
     ]
    }
   ],
   "source": [
    "\n",
    "job = estimator.run([(isa_circuit, mapped_observables)])\n",
    "\n",
    "# Use the job ID to retrieve your job data later\n",
    "print(f\">>> Job ID: {job.job_id()}\")\n",
    " \n",
    "# This is the result of the entire submission.  You submitted one Pub,\n",
    "# so this contains one inner result (and some metadata of its own).\n",
    " \n",
    "job_result = job.result()\n",
    " \n",
    "# This is the result from our single pub, which had five observables,\n",
    "# so contains information on all five.\n",
    " \n",
    "pub_result = job.result()[0]"
   ]
  },
  {
   "cell_type": "markdown",
   "id": "64cbf7f2-b151-40b8-a959-88b7e2c93458",
   "metadata": {},
   "source": [
    "<h2>Step 7. Show the results</h2>"
   ]
  },
  {
   "cell_type": "code",
   "execution_count": 18,
   "id": "4160840b-1ed4-41ec-9e5f-f0c8e3372291",
   "metadata": {
    "scrolled": true
   },
   "outputs": [
    {
     "data": {
      "image/png": "[encoded data removed]",
      "text/plain": [
       "<Figure size 640x480 with 1 Axes>"
      ]
     },
     "metadata": {},
     "output_type": "display_data"
    },
    {
     "data": {
      "image/png": "[encoded data removed]",
      "text/plain": [
       "<Figure size 640x480 with 1 Axes>"
      ]
     },
     "metadata": {},
     "output_type": "display_data"
    }
   ],
   "source": [
    "# Plot the results\n",
    " \n",
    "from matplotlib import pyplot as plt\n",
    " \n",
    "values = pub_result.data.evs\n",
    " \n",
    "errors = pub_result.data.stds\n",
    " \n",
    "# plotting graph\n",
    "plt.plot(observables_labels, values, '-o')\n",
    "plt.xlabel('Observables')\n",
    "plt.ylabel('Values')\n",
    "plt.show()\n",
    "\n",
    "plt.plot(observables_labels, errors, '-o')\n",
    "plt.xlabel('Observables')\n",
    "plt.ylabel('Errors')\n",
    "plt.show()"
   ]
  },
  {
   "cell_type": "code",
   "execution_count": null,
   "id": "f4b5dd00-f072-421e-9dfc-612cb1d175d9",
   "metadata": {},
   "outputs": [],
   "source": []
  }
 ],
 "metadata": {
  "kernelspec": {
   "display_name": "Python 3 (ipykernel)",
   "language": "python",
   "name": "python3"
  },
  "language_info": {
   "codemirror_mode": {
    "name": "ipython",
    "version": 3
   },
   "file_extension": ".py",
   "mimetype": "text/x-python",
   "name": "python",
   "nbconvert_exporter": "python",
   "pygments_lexer": "ipython3",
   "version": "3.12.0"
  }
 },
 "nbformat": 4,
 "nbformat_minor": 5
}
