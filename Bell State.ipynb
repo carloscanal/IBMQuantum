{
 "cells": [
  {
   "cell_type": "markdown",
   "id": "62f409c5-887a-4a9b-bca1-88ea6108bea6",
   "metadata": {},
   "source": [
    "<h1>Qiskit Bell State (two entangled qubits)</h1>"
   ]
  },
  {
   "cell_type": "code",
   "execution_count": 1,
   "id": "6d14d36c-3405-46ac-a77e-259519dc22dd",
   "metadata": {},
   "outputs": [],
   "source": [
    "# kernel extension for conditional cell execution\n",
    "#\n",
    "# set skip to True (%%skip True) in any block you want to skip\n",
    "\n",
    "%reload_ext skip_extension"
   ]
  },
  {
   "cell_type": "markdown",
   "id": "cd2654ee-f291-4079-8c15-8b73bb313a2f",
   "metadata": {},
   "source": [
    "<h2>Step 0. Obtain the API_KEY from the .env file</h2>"
   ]
  },
  {
   "cell_type": "code",
   "execution_count": 2,
   "id": "6998c402-7ee6-4c08-806f-2f7dd80af15d",
   "metadata": {
    "scrolled": true
   },
   "outputs": [
    {
     "data": {
      "text/markdown": [
       "<span style=\"color:red\">>>> Token: 4a7ea...</span>"
      ],
      "text/plain": [
       "<IPython.core.display.Markdown object>"
      ]
     },
     "metadata": {},
     "output_type": "display_data"
    }
   ],
   "source": [
    "from environs import Env\n",
    "from IPython.display import display, Markdown\n",
    "\n",
    "env = Env()\n",
    "\n",
    "#env.read_env()                         # this does not work (?)\n",
    "env.read_env('.env', recurse=False)     # read .env file, if it exists\n",
    "\n",
    "token = env('IBM_QUANTUM_TOKEN')  \n",
    "\n",
    "display(Markdown('<span style=\"color:red\">>>> Token: ' + token[:5] + '...</span>'))     # Check that the starting characters of the token are printed"
   ]
  },
  {
   "cell_type": "markdown",
   "id": "fcabca1b-62c0-44a2-bccb-01627403debc",
   "metadata": {},
   "source": [
    "<h2>Step 1.1. Create a simple circuit with two entangled qubits (Bell state)</h2>"
   ]
  },
  {
   "cell_type": "code",
   "execution_count": 3,
   "id": "76665640-8b0d-487e-8a52-10c58909ed9b",
   "metadata": {
    "scrolled": true
   },
   "outputs": [
    {
     "data": {
      "image/png": "[encoded data removed]",
      "text/plain": [
       "<Figure size 287.294x200.667 with 1 Axes>"
      ]
     },
     "execution_count": 3,
     "metadata": {},
     "output_type": "execute_result"
    }
   ],
   "source": [
    "from qiskit import QuantumCircuit\n",
    "\n",
    "# Create a new circuit with two qubits\n",
    "qc = QuantumCircuit(2)\n",
    " \n",
    "# Add a Hadamard gate to qubit 0\n",
    "qc.h(0)\n",
    " \n",
    "# Perform a controlled-X gate on qubit 1, controlled by qubit 0\n",
    "qc.cx(0, 1)\n",
    "\n",
    "# Return a drawing of the circuit using MatPlotLib (\"mpl\"). This is the\n",
    "# last line of the cell, so the drawing appears in the cell output.\n",
    "# Remove the \"mpl\" argument to get a text drawing.\n",
    "qc.draw(\"mpl\")"
   ]
  },
  {
   "cell_type": "markdown",
   "id": "1959d02a-7369-4351-83b1-3815869812bf",
   "metadata": {},
   "source": [
    "<h2>Step 1.2. Set up a set of observables</h2>"
   ]
  },
  {
   "cell_type": "code",
   "execution_count": 14,
   "id": "ec219075-c38b-4ff7-823b-465dba96bf5d",
   "metadata": {},
   "outputs": [
    {
     "data": {
      "text/markdown": [
       "<span style=\"color:red\">>>> \"6 observables: ['IZ', 'IX', 'ZI', 'XI', 'ZZ', 'XX']"
      ],
      "text/plain": [
       "<IPython.core.display.Markdown object>"
      ]
     },
     "metadata": {},
     "output_type": "display_data"
    }
   ],
   "source": [
    "from qiskit.quantum_info import SparsePauliOp\n",
    "\n",
    "# Set up six different observables.\n",
    "\n",
    "labels = [\"IZ\", \"IX\", \"ZI\", \"XI\", \"ZZ\", \"XX\"]\n",
    "\n",
    "observables = [SparsePauliOp(operator) for operator in labels]\n",
    "\n",
    "display(Markdown('<span style=\"color:red\">>>> \"'+ str(len(labels)) + ' observables: ' +  str(labels)))"
   ]
  },
  {
   "cell_type": "markdown",
   "id": "4aa0378c-5764-416c-af82-9edfbe693bae",
   "metadata": {},
   "source": [
    "<h2>Step 2.1.a. Set up backend for simulation</h2>"
   ]
  },
  {
   "cell_type": "code",
   "execution_count": 15,
   "id": "c0fb32b9-ec42-42b4-851b-25152492a283",
   "metadata": {},
   "outputs": [],
   "source": [
    "from qiskit_ibm_runtime.fake_provider import FakeAlmadenV2\n",
    "\n",
    "backend = FakeAlmadenV2()\n",
    "\n",
    "backend_name = backend.backend_name"
   ]
  },
  {
   "cell_type": "markdown",
   "id": "5930b5da-8d11-4268-b4ca-f7a4da88c337",
   "metadata": {},
   "source": [
    "<h2>Step 2.1.b. Alternatively set up backend for QPU</h2>"
   ]
  },
  {
   "cell_type": "code",
   "execution_count": 17,
   "id": "2ec1f26a-abd6-4371-8edf-3616e4311ee6",
   "metadata": {},
   "outputs": [],
   "source": [
    "%%skip True      # set to True/False in order to skip/run this cell\n",
    "\n",
    "display(Markdown('## <span style=\"color:red\">>>>WARNING: *** No simulation. Next steps will run the circuit on hardware QPU ***</span>'))\n",
    "\n",
    "from qiskit_ibm_runtime import QiskitRuntimeService\n",
    "\n",
    "# If you did not previously save your credentials, use the following line instead:\n",
    "# service = QiskitRuntimeService(channel=\"ibm_quantum\", token=\"<MY_IBM_QUANTUM_TOKEN>\")\n",
    "service = QiskitRuntimeService(channel=\"ibm_quantum\", token=token)\n",
    "\n",
    "backend = service.least_busy(simulator=False, operational=True)\n",
    "\n",
    "backend_name = backend.backend_name"
   ]
  },
  {
   "cell_type": "markdown",
   "id": "e2714646-df90-48e5-b46b-65e718cbe60e",
   "metadata": {},
   "source": [
    "<h2>Step 2.2. Convert to an ISA circuit layout</h2> \n",
    "<h3>(either for simulation or running on QPU)</h3>"
   ]
  },
  {
   "cell_type": "code",
   "execution_count": 18,
   "id": "5bdcd2b5-0d8d-463f-8192-8295e43844ea",
   "metadata": {},
   "outputs": [
    {
     "data": {
      "text/markdown": [
       "<span style=\"color:red\">>>> Execution backend: fake_almaden</span>"
      ],
      "text/plain": [
       "<IPython.core.display.Markdown object>"
      ]
     },
     "metadata": {},
     "output_type": "display_data"
    },
    {
     "data": {
      "image/png": "[encoded data removed]",
      "text/plain": [
       "<Figure size 339.775x200.667 with 1 Axes>"
      ]
     },
     "execution_count": 18,
     "metadata": {},
     "output_type": "execute_result"
    }
   ],
   "source": [
    "# Convert to an ISA circuit layout\n",
    "\n",
    "from qiskit.transpiler.preset_passmanagers import generate_preset_pass_manager\n",
    "\n",
    "display(Markdown('<span style=\"color:red\">>>> Execution backend: ' + backend_name + '</span>'))\n",
    "\n",
    "pm = generate_preset_pass_manager(backend=backend, optimization_level=1)\n",
    "isa_circuit = pm.run(qc)\n",
    "\n",
    "isa_circuit.draw('mpl', idle_wires=False)\n"
   ]
  },
  {
   "cell_type": "markdown",
   "id": "c4415ee3-f364-4f4d-9eb5-4425868704dc",
   "metadata": {},
   "source": [
    "<h2>Step 3'.1. Map the observables to the ISA circuit and construct the estimator instance</h2>"
   ]
  },
  {
   "cell_type": "code",
   "execution_count": 19,
   "id": "d7e7192f-f075-44e3-9535-6b1775d2453b",
   "metadata": {},
   "outputs": [],
   "source": [
    "from qiskit_ibm_runtime import EstimatorV2 as Estimator\n",
    "\n",
    "# Map the observables to the ISA circuit\n",
    "\n",
    "mapped_observables = [\n",
    "    observable.apply_layout(isa_circuit.layout) for observable in observables\n",
    "]\n",
    "\n",
    "# print(\"Mapped observables: \"+str(mapped_observables))\n",
    "\n",
    "# Construct the Estimator instance\n",
    "\n",
    "estimator = Estimator(mode=backend)\n",
    "estimator.options.resilience_level = 1    # only needed for hardware QPU execution\n",
    "estimator.options.default_shots = 5000"
   ]
  },
  {
   "cell_type": "markdown",
   "id": "398cd56c-fc37-4650-96b0-2de00333cf21",
   "metadata": {},
   "source": [
    "<h2>Step 3.2. Run or simulate the circuit</h2>"
   ]
  },
  {
   "cell_type": "code",
   "execution_count": 21,
   "id": "1e0cd03c-114a-4bf8-9369-f7af3b573384",
   "metadata": {},
   "outputs": [
    {
     "name": "stderr",
     "output_type": "stream",
     "text": [
      "c:\\Users\\canal\\qiskitenv\\Lib\\site-packages\\qiskit_ibm_runtime\\fake_provider\\local_service.py:187: UserWarning: The resilience_level option has no effect in local testing mode.\n",
      "  warnings.warn(\"The resilience_level option has no effect in local testing mode.\")\n"
     ]
    },
    {
     "data": {
      "text/markdown": [
       "<span style=\"color:red\">>>> Save the job id for accessing the results when finished:<br>>>> Job ID: dcb6384c-8b91-4bdf-8af7-9a6802ed77f6</span>"
      ],
      "text/plain": [
       "<IPython.core.display.Markdown object>"
      ]
     },
     "metadata": {},
     "output_type": "display_data"
    }
   ],
   "source": [
    "job = estimator.run([(isa_circuit, mapped_observables)])\n",
    "\n",
    "# Use the job ID to retrieve your job data later\n",
    "\n",
    "job_id = job.job_id()\n",
    "\n",
    "display(Markdown('<span style=\"color:red\">>>> Save the job id for accessing the results when finished:<br>' +\n",
    "                                         '>>> Job ID: ' + job_id + '</span>'))\n"
   ]
  },
  {
   "cell_type": "markdown",
   "id": "64cbf7f2-b151-40b8-a959-88b7e2c93458",
   "metadata": {},
   "source": [
    "<h2>Step 4.b. Retrieve a previously executed job</h2>\n",
    "<h3>(only for execution on QPU)</h3>"
   ]
  },
  {
   "cell_type": "code",
   "execution_count": 22,
   "id": "4160840b-1ed4-41ec-9e5f-f0c8e3372291",
   "metadata": {
    "scrolled": true
   },
   "outputs": [],
   "source": [
    "from qiskit_ibm_runtime import QiskitRuntimeService\n",
    "\n",
    "# In order to fully recover your Job object, you need the job id.\n",
    "# When the job is done, you can recover the Job object like this:\n",
    "\n",
    "service = QiskitRuntimeService(channel=\"ibm_quantum\", token=token)\n",
    "\n",
    "job_id = 'cwfpy200r6b0008pbrgg'\n",
    "       # 'cwbzbjeggr6g00891070'      # job_id from a previous execution on hardware QPU\n",
    "\n",
    "qpu_job = service.job(job_id)"
   ]
  },
  {
   "cell_type": "markdown",
   "id": "36039118-74e5-48c8-9853-daac3d0d3b54",
   "metadata": {},
   "source": [
    "<h2>Step 4.2. Show the results</h2>"
   ]
  },
  {
   "cell_type": "code",
   "execution_count": 23,
   "id": "f18c2324-bc63-420a-b70e-b740f4c54ee0",
   "metadata": {
    "scrolled": true
   },
   "outputs": [
    {
     "data": {
      "text/markdown": [
       "<span style=\"color:red\">>>> Job ID: cwfpy200r6b0008pbrgg</span>"
      ],
      "text/plain": [
       "<IPython.core.display.Markdown object>"
      ]
     },
     "metadata": {},
     "output_type": "display_data"
    },
    {
     "data": {
      "image/png": "[encoded data removed]",
      "text/plain": [
       "<Figure size 640x480 with 4 Axes>"
      ]
     },
     "metadata": {},
     "output_type": "display_data"
    }
   ],
   "source": [
    "# Job for which we are showing the results.\n",
    "\n",
    "display(Markdown('<span style=\"color:red\">>>> Job ID: ' + job_id + '</span>'))\n",
    "\n",
    "\n",
    "# This is the result of the entire submission.  You submitted one Pub,\n",
    "# so this contains one inner result (and some metadata of its own).\n",
    " \n",
    "job_result = job.result()\n",
    "qpu_result = qpu_job.result()\n",
    " \n",
    "# This is the result from our single pub, which had six observables,\n",
    "# so contains information on all six.\n",
    " \n",
    "pub_result = job_result[0]\n",
    "qpu_pub_result = qpu_result[0]\n",
    "\n",
    "# Plot the results\n",
    " \n",
    "from matplotlib import pyplot as plt\n",
    " \n",
    "values = pub_result.data.evs\n",
    "qpu_values = qpu_pub_result.data.evs\n",
    " \n",
    "errors = pub_result.data.stds\n",
    "qpu_errors = qpu_pub_result.data.stds\n",
    "\n",
    "# plotting graphs of values and errors\n",
    "\n",
    "plt.subplot(2,3,1)  # 2 rows, 3 columns; this is the first plot\n",
    "plt.bar(labels, values)\n",
    "# plt.plot(observables_labels, values, '-o')\n",
    "plt.xlabel('Observables')\n",
    "plt.ylabel('Expected values')\n",
    "\n",
    "plt.subplot(2,3,3)  # 2 rows, 3 columns; this is the third plot\n",
    "plt.bar(labels, qpu_values)\n",
    "# plt.plot(observables_labels, qpu_values, '-o')\n",
    "plt.xlabel('Observables')\n",
    "plt.ylabel('QPU Expected values')\n",
    "\n",
    "plt.subplot(2,3,4) # 2 row, 3 columns; this is the first plot in the second row\n",
    "# plt.bar(observables_labels, errors)\n",
    "plt.plot(labels, errors, '-o')\n",
    "plt.xlabel('Observables')\n",
    "plt.ylabel('Standard deviations')\n",
    "\n",
    "plt.subplot(2,3,6) # 2row, 3 columns; this is the last plot\n",
    "# plt.bar(observables_labels, qpu_errors)\n",
    "plt.plot(labels, qpu_errors, '-o')\n",
    "plt.xlabel('Observables')\n",
    "plt.ylabel('QPU Standard deviations')\n",
    "\n",
    "plt.show()"
   ]
  },
  {
   "cell_type": "code",
   "execution_count": null,
   "id": "f4b5dd00-f072-421e-9dfc-612cb1d175d9",
   "metadata": {},
   "outputs": [],
   "source": []
  }
 ],
 "metadata": {
  "kernelspec": {
   "display_name": "qiskitenv",
   "language": "python",
   "name": "qiskitenv"
  },
  "language_info": {
   "codemirror_mode": {
    "name": "ipython",
    "version": 3
   },
   "file_extension": ".py",
   "mimetype": "text/x-python",
   "name": "python",
   "nbconvert_exporter": "python",
   "pygments_lexer": "ipython3",
   "version": "3.12.7"
  }
 },
 "nbformat": 4,
 "nbformat_minor": 5
}
